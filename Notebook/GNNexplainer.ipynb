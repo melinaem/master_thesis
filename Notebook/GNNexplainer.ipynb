{
  "nbformat": 4,
  "nbformat_minor": 0,
  "metadata": {
    "colab": {
      "provenance": []
    },
    "kernelspec": {
      "name": "python3",
      "display_name": "Python 3"
    },
    "language_info": {
      "name": "python"
    }
  },
  "cells": [
    {
      "cell_type": "markdown",
      "source": [
        "https://github.com/OpenXAIProject/GNNExplainer-Tutorial/blob/master/gnnexplainer_cora.ipynb"
      ],
      "metadata": {
        "id": "SyCYHEb6Menm"
      }
    },
    {
      "cell_type": "markdown",
      "source": [
        "Dataset"
      ],
      "metadata": {
        "id": "U-m--h9gLntk"
      }
    },
    {
      "cell_type": "code",
      "execution_count": null,
      "metadata": {
        "id": "SSbONpNz1dK0"
      },
      "outputs": [],
      "source": [
        "%matplotlib inline\n",
        "\n",
        "from torch_geometric.data import Data, DataLoader\n",
        "from torch_geometric.datasets import TUDataset, Planetoid\n",
        "from torch_geometric.nn import GCNConv, Set2Set, GNNExplainer\n",
        "import torch_geometric.transforms as T\n",
        "import torch\n",
        "import torch.nn.functional as F\n",
        "import os\n",
        "from tqdm import tqdm, trange\n",
        "\n",
        "import matplotlib.pyplot as plt"
      ]
    },
    {
      "cell_type": "code",
      "source": [
        "#Load the dataset\n",
        "dataset = 'cora'\n",
        "path = os.path.join(os.getcwd(), 'data', 'Planetoid')\n",
        "train_dataset = Planetoid(path, dataset, transform=T.NormalizeFeatures())\n",
        "\n",
        "# Since the dataset is comprised of a single huge graph, we extract that graph by indexing 0.\n",
        "data = train_dataset[0]\n",
        "\n",
        "# Since there is only 1 graph, the train/test split is done by masking regions of the graph. We split the last 500+500 nodes as val and test, and use the rest as the training data.\n",
        "data.train_mask = torch.zeros(data.num_nodes, dtype=torch.bool)\n",
        "data.train_mask[:data.num_nodes - 1000] = 1\n",
        "data.val_mask = None\n",
        "data.test_mask = torch.zeros(data.num_nodes, dtype=torch.bool)\n",
        "data.test_mask[data.num_nodes - 500:] = 1"
      ],
      "metadata": {
        "colab": {
          "base_uri": "https://localhost:8080/"
        },
        "id": "KkMx-e3kLfxU",
        "outputId": "4dc6ade6-6336-4f8a-f02f-3675021a2417"
      },
      "execution_count": null,
      "outputs": [
        {
          "output_type": "stream",
          "name": "stderr",
          "text": [
            "Downloading https://github.com/kimiyoung/planetoid/raw/master/data/ind.cora.x\n",
            "Downloading https://github.com/kimiyoung/planetoid/raw/master/data/ind.cora.tx\n",
            "Downloading https://github.com/kimiyoung/planetoid/raw/master/data/ind.cora.allx\n",
            "Downloading https://github.com/kimiyoung/planetoid/raw/master/data/ind.cora.y\n",
            "Downloading https://github.com/kimiyoung/planetoid/raw/master/data/ind.cora.ty\n",
            "Downloading https://github.com/kimiyoung/planetoid/raw/master/data/ind.cora.ally\n",
            "Downloading https://github.com/kimiyoung/planetoid/raw/master/data/ind.cora.graph\n",
            "Downloading https://github.com/kimiyoung/planetoid/raw/master/data/ind.cora.test.index\n",
            "Processing...\n",
            "Done!\n"
          ]
        }
      ]
    },
    {
      "cell_type": "markdown",
      "source": [
        "Build model"
      ],
      "metadata": {
        "id": "adPW3vRTLsk7"
      }
    },
    {
      "cell_type": "code",
      "source": [
        "class Net(torch.nn.Module):\n",
        "    def __init__(self, num_features, dim=16, num_classes=1):\n",
        "        super(Net, self).__init__()\n",
        "        self.conv1 = GCNConv(num_features, dim)\n",
        "        self.conv2 = GCNConv(dim, num_classes)\n",
        "\n",
        "    def forward(self, x, edge_index, data=None):\n",
        "        x = F.relu(self.conv1(x, edge_index))\n",
        "        x = F.dropout(x, training=self.training)\n",
        "        x = self.conv2(x, edge_index)\n",
        "        return F.log_softmax(x, dim=1)"
      ],
      "metadata": {
        "id": "HeDUWcrALl33"
      },
      "execution_count": null,
      "outputs": []
    },
    {
      "cell_type": "markdown",
      "source": [
        "Training"
      ],
      "metadata": {
        "id": "B3TgnGaILxaU"
      }
    },
    {
      "cell_type": "code",
      "source": [
        "epochs = 200\n",
        "dim = 16\n",
        "device = torch.device('cuda' if torch.cuda.is_available() else 'cpu')\n",
        "model = Net(num_features=train_dataset.num_features, dim=dim, num_classes=train_dataset.num_classes).to(device)\n",
        "optimizer = torch.optim.Adam(model.parameters(), lr=0.01, weight_decay=5e-3)"
      ],
      "metadata": {
        "id": "hwBQ-aalLwAw"
      },
      "execution_count": null,
      "outputs": []
    },
    {
      "cell_type": "code",
      "source": [
        "def test(model, data):\n",
        "    model.eval()\n",
        "    logits, accs = model(data.x, data.edge_index, data), []\n",
        "    for _, mask in data('train_mask', 'test_mask'):\n",
        "        pred = logits[mask].max(1)[1]\n",
        "        acc = pred.eq(data.y[mask]).sum().item() / mask.sum().item()\n",
        "        accs.append(acc)\n",
        "    return accs"
      ],
      "metadata": {
        "id": "AfWEyfK2L1Yw"
      },
      "execution_count": null,
      "outputs": []
    },
    {
      "cell_type": "code",
      "source": [
        "loss = 999.0\n",
        "train_acc = 0.0\n",
        "test_acc = 0.0\n",
        "\n",
        "t = trange(epochs, desc=\"Stats: \", position=0)\n",
        "\n",
        "for epoch in t:\n",
        "\n",
        "    model.train()\n",
        "    \n",
        "    loss = 0\n",
        "\n",
        "    data = data.to(device)\n",
        "    optimizer.zero_grad()\n",
        "    log_logits = model(data.x, data.edge_index, data)\n",
        "\n",
        "    # Since the data is a single huge graph, training on the training set is done by masking the nodes that are not in the training set.\n",
        "    loss = F.nll_loss(log_logits[data.train_mask], data.y[data.train_mask])\n",
        "    loss.backward()\n",
        "    optimizer.step()\n",
        "\n",
        "    # validate\n",
        "    train_acc, test_acc = test(model, data)\n",
        "    train_loss = loss\n",
        "    \n",
        "    t.set_description('[Train_loss:{:.6f} Train_acc: {:.4f}, Test_acc: {:.4f}]'.format(loss, train_acc, test_acc))"
      ],
      "metadata": {
        "colab": {
          "base_uri": "https://localhost:8080/"
        },
        "id": "R4Poa5f3L3Zv",
        "outputId": "d7689517-8916-4b70-dea8-fe0eb8b06eaa"
      },
      "execution_count": null,
      "outputs": [
        {
          "output_type": "stream",
          "name": "stderr",
          "text": [
            "[Train_loss:1.553071 Train_acc: 0.4268, Test_acc: 0.4420]: 100%|██████████| 200/200 [00:06<00:00, 29.46it/s]\n"
          ]
        }
      ]
    },
    {
      "cell_type": "markdown",
      "source": [
        "GNNExplainer"
      ],
      "metadata": {
        "id": "CUz1cjd3L5qB"
      }
    },
    {
      "cell_type": "code",
      "source": [
        "node_idx = 10\n",
        "x, edge_index = data.x, data.edge_index\n",
        "explainer = GNNExplainer(model, epochs=200)\n",
        "node_feat_mask, edge_mask = explainer.explain_node(node_idx, x, edge_index)"
      ],
      "metadata": {
        "colab": {
          "base_uri": "https://localhost:8080/"
        },
        "id": "11ftO1i9L7Hx",
        "outputId": "b6b95c23-6f13-4c52-88ba-b679c41e24a8"
      },
      "execution_count": null,
      "outputs": [
        {
          "output_type": "stream",
          "name": "stderr",
          "text": [
            "Explain node 10: 100%|██████████| 200/200 [00:00<00:00, 373.67it/s]\n"
          ]
        }
      ]
    },
    {
      "cell_type": "code",
      "source": [
        "ax, G = explainer.visualize_subgraph(node_idx, edge_index, edge_mask, y=data.y)\n",
        "plt.show()"
      ],
      "metadata": {
        "colab": {
          "base_uri": "https://localhost:8080/",
          "height": 248
        },
        "id": "ElKCiyScL98Q",
        "outputId": "29640516-5a1b-4077-d3bf-e97920233f84"
      },
      "execution_count": null,
      "outputs": [
        {
          "output_type": "display_data",
          "data": {
            "text/plain": [
              "<Figure size 432x288 with 1 Axes>"
            ],
            "image/png": "[encoded data removed]"
          },
          "metadata": {}
        }
      ]
    }
  ]
}
