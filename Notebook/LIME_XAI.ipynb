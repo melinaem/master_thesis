{
 "cells": [
  {
   "cell_type": "markdown",
   "metadata": {
    "id": "bFTljuZ4ZWoD"
   },
   "source": [
    "https://ema.drwhy.ai/LIME.html\n"
   ]
  },
  {
   "cell_type": "markdown",
   "metadata": {
    "id": "aa-jYyBtm0QL"
   },
   "source": [
    "TITANIC"
   ]
  },
  {
   "cell_type": "code",
   "execution_count": null,
   "metadata": {
    "id": "HpWKK1Pnm0Bt"
   },
   "outputs": [],
   "source": [
    "import dalex as dx\n",
    "\n",
    "titanic = dx.datasets.load_titanic()\n",
    "X = titanic.drop(columns='survived')\n",
    "y = titanic.survived\n",
    "\n",
    "from sklearn import preprocessing\n",
    "le = preprocessing.LabelEncoder()\n",
    "\n",
    "X['gender']   = le.fit_transform(X['gender'])\n",
    "X['class']    = le.fit_transform(X['class'])\n",
    "X['embarked'] = le.fit_transform(X['embarked'])"
   ]
  },
  {
   "cell_type": "code",
   "execution_count": null,
   "metadata": {},
   "outputs": [],
   "source": [
    "pip install lime"
   ]
  },
  {
   "cell_type": "code",
   "execution_count": 4,
   "metadata": {
    "colab": {
     "base_uri": "https://localhost:8080/"
    },
    "id": "VeL6535Em_89",
    "outputId": "c49692e6-156d-4bd2-9e95-28b10d2be46b"
   },
   "outputs": [
    {
     "data": {
      "text/plain": [
       "RandomForestClassifier()"
      ]
     },
     "execution_count": 4,
     "metadata": {},
     "output_type": "execute_result"
    }
   ],
   "source": [
    "from sklearn.ensemble import RandomForestClassifier as rfc\n",
    "titanic_fr = rfc()\n",
    "titanic_fr.fit(X, y)"
   ]
  },
  {
   "cell_type": "code",
   "execution_count": 8,
   "metadata": {
    "colab": {
     "base_uri": "https://localhost:8080/"
    },
    "id": "eqRKKOG3D7QX",
    "outputId": "c6ca72fa-817c-4d78-a14b-298a2ac4f35f"
   },
   "outputs": [
    {
     "name": "stdout",
     "output_type": "stream",
     "text": [
      "Collecting lime\n",
      "  Downloading lime-0.2.0.1.tar.gz (275 kB)\n",
      "\u001b[?25l\r",
      "\u001b[K     |█▏                              | 10 kB 28.3 MB/s eta 0:00:01\r",
      "\u001b[K     |██▍                             | 20 kB 10.3 MB/s eta 0:00:01\r",
      "\u001b[K     |███▋                            | 30 kB 6.5 MB/s eta 0:00:01\r",
      "\u001b[K     |████▊                           | 40 kB 6.8 MB/s eta 0:00:01\r",
      "\u001b[K     |██████                          | 51 kB 6.3 MB/s eta 0:00:01\r",
      "\u001b[K     |███████▏                        | 61 kB 7.5 MB/s eta 0:00:01\r",
      "\u001b[K     |████████▎                       | 71 kB 7.4 MB/s eta 0:00:01\r",
      "\u001b[K     |█████████▌                      | 81 kB 7.9 MB/s eta 0:00:01\r",
      "\u001b[K     |██████████▊                     | 92 kB 8.8 MB/s eta 0:00:01\r",
      "\u001b[K     |███████████▉                    | 102 kB 8.6 MB/s eta 0:00:01\r",
      "\u001b[K     |█████████████                   | 112 kB 8.6 MB/s eta 0:00:01\r",
      "\u001b[K     |██████████████▎                 | 122 kB 8.6 MB/s eta 0:00:01\r",
      "\u001b[K     |███████████████▌                | 133 kB 8.6 MB/s eta 0:00:01\r",
      "\u001b[K     |████████████████▋               | 143 kB 8.6 MB/s eta 0:00:01\r",
      "\u001b[K     |█████████████████▉              | 153 kB 8.6 MB/s eta 0:00:01\r",
      "\u001b[K     |███████████████████             | 163 kB 8.6 MB/s eta 0:00:01\r",
      "\u001b[K     |████████████████████▏           | 174 kB 8.6 MB/s eta 0:00:01\r",
      "\u001b[K     |█████████████████████▍          | 184 kB 8.6 MB/s eta 0:00:01\r",
      "\u001b[K     |██████████████████████▋         | 194 kB 8.6 MB/s eta 0:00:01\r",
      "\u001b[K     |███████████████████████▊        | 204 kB 8.6 MB/s eta 0:00:01\r",
      "\u001b[K     |█████████████████████████       | 215 kB 8.6 MB/s eta 0:00:01\r",
      "\u001b[K     |██████████████████████████▏     | 225 kB 8.6 MB/s eta 0:00:01\r",
      "\u001b[K     |███████████████████████████▍    | 235 kB 8.6 MB/s eta 0:00:01\r",
      "\u001b[K     |████████████████████████████▌   | 245 kB 8.6 MB/s eta 0:00:01\r",
      "\u001b[K     |█████████████████████████████▊  | 256 kB 8.6 MB/s eta 0:00:01\r",
      "\u001b[K     |███████████████████████████████ | 266 kB 8.6 MB/s eta 0:00:01\r",
      "\u001b[K     |████████████████████████████████| 275 kB 8.6 MB/s \n",
      "\u001b[?25hRequirement already satisfied: matplotlib in /usr/local/lib/python3.7/dist-packages (from lime) (3.2.2)\n",
      "Requirement already satisfied: numpy in /usr/local/lib/python3.7/dist-packages (from lime) (1.21.6)\n",
      "Requirement already satisfied: scipy in /usr/local/lib/python3.7/dist-packages (from lime) (1.7.3)\n",
      "Requirement already satisfied: tqdm in /usr/local/lib/python3.7/dist-packages (from lime) (4.64.0)\n",
      "Requirement already satisfied: scikit-learn>=0.18 in /usr/local/lib/python3.7/dist-packages (from lime) (1.0.2)\n",
      "Requirement already satisfied: scikit-image>=0.12 in /usr/local/lib/python3.7/dist-packages (from lime) (0.18.3)\n",
      "Requirement already satisfied: pillow!=7.1.0,!=7.1.1,>=4.3.0 in /usr/local/lib/python3.7/dist-packages (from scikit-image>=0.12->lime) (7.1.2)\n",
      "Requirement already satisfied: imageio>=2.3.0 in /usr/local/lib/python3.7/dist-packages (from scikit-image>=0.12->lime) (2.4.1)\n",
      "Requirement already satisfied: tifffile>=2019.7.26 in /usr/local/lib/python3.7/dist-packages (from scikit-image>=0.12->lime) (2021.11.2)\n",
      "Requirement already satisfied: networkx>=2.0 in /usr/local/lib/python3.7/dist-packages (from scikit-image>=0.12->lime) (2.6.3)\n",
      "Requirement already satisfied: PyWavelets>=1.1.1 in /usr/local/lib/python3.7/dist-packages (from scikit-image>=0.12->lime) (1.3.0)\n",
      "Requirement already satisfied: python-dateutil>=2.1 in /usr/local/lib/python3.7/dist-packages (from matplotlib->lime) (2.8.2)\n",
      "Requirement already satisfied: pyparsing!=2.0.4,!=2.1.2,!=2.1.6,>=2.0.1 in /usr/local/lib/python3.7/dist-packages (from matplotlib->lime) (3.0.9)\n",
      "Requirement already satisfied: kiwisolver>=1.0.1 in /usr/local/lib/python3.7/dist-packages (from matplotlib->lime) (1.4.2)\n",
      "Requirement already satisfied: cycler>=0.10 in /usr/local/lib/python3.7/dist-packages (from matplotlib->lime) (0.11.0)\n",
      "Requirement already satisfied: typing-extensions in /usr/local/lib/python3.7/dist-packages (from kiwisolver>=1.0.1->matplotlib->lime) (4.2.0)\n",
      "Requirement already satisfied: six>=1.5 in /usr/local/lib/python3.7/dist-packages (from python-dateutil>=2.1->matplotlib->lime) (1.15.0)\n",
      "Requirement already satisfied: threadpoolctl>=2.0.0 in /usr/local/lib/python3.7/dist-packages (from scikit-learn>=0.18->lime) (3.1.0)\n",
      "Requirement already satisfied: joblib>=0.11 in /usr/local/lib/python3.7/dist-packages (from scikit-learn>=0.18->lime) (1.1.0)\n",
      "Building wheels for collected packages: lime\n",
      "  Building wheel for lime (setup.py) ... \u001b[?25l\u001b[?25hdone\n",
      "  Created wheel for lime: filename=lime-0.2.0.1-py3-none-any.whl size=283857 sha256=93694baaac254c141a5f381ac71f8bd226129c470ae6669d269a777553d6842a\n",
      "  Stored in directory: /root/.cache/pip/wheels/ca/cb/e5/ac701e12d365a08917bf4c6171c0961bc880a8181359c66aa7\n",
      "Successfully built lime\n",
      "Installing collected packages: lime\n",
      "Successfully installed lime-0.2.0.1\n"
     ]
    }
   ],
   "source": [
    "!pip install lime"
   ]
  },
  {
   "cell_type": "code",
   "execution_count": 9,
   "metadata": {
    "id": "SoYMp4zUnCf0"
   },
   "outputs": [],
   "source": [
    "import pandas as pd\n",
    "import lime\n",
    "henry = pd.Series([1, 47.0, 0, 1, 25.0, 0, 0], \n",
    "                  index =['gender', 'age', 'class', 'embarked',\n",
    "                          'fare', 'sibsp', 'parch'])"
   ]
  },
  {
   "cell_type": "code",
   "execution_count": 10,
   "metadata": {
    "id": "MQDIJA4_nDkf"
   },
   "outputs": [],
   "source": [
    "from lime.lime_tabular import LimeTabularExplainer \n",
    "explainer = LimeTabularExplainer(X, \n",
    "                      feature_names=X.columns, \n",
    "                      class_names=['died', 'survived'], \n",
    "                      discretize_continuous=False, \n",
    "                      verbose=True)"
   ]
  },
  {
   "cell_type": "code",
   "execution_count": 1,
   "metadata": {
    "colab": {
     "base_uri": "https://localhost:8080/",
     "height": 351
    },
    "id": "6aqZOzd0nUoU",
    "outputId": "9da2b514-903e-4006-bd75-130bb36bef2a"
   },
   "outputs": [
    {
     "ename": "NameError",
     "evalue": "name 'explainer' is not defined",
     "output_type": "error",
     "traceback": [
      "\u001b[0;31m---------------------------------------------------------------------------\u001b[0m",
      "\u001b[0;31mNameError\u001b[0m                                 Traceback (most recent call last)",
      "\u001b[0;32m<ipython-input-1-5940d9e922b7>\u001b[0m in \u001b[0;36m<module>\u001b[0;34m\u001b[0m\n\u001b[0;32m----> 1\u001b[0;31m \u001b[0mlime\u001b[0m \u001b[0;34m=\u001b[0m \u001b[0mexplainer\u001b[0m\u001b[0;34m.\u001b[0m\u001b[0mexplain_instance\u001b[0m\u001b[0;34m(\u001b[0m\u001b[0mhenry\u001b[0m\u001b[0;34m,\u001b[0m \u001b[0mtitanic_fr\u001b[0m\u001b[0;34m.\u001b[0m\u001b[0mpredict_proba\u001b[0m\u001b[0;34m)\u001b[0m\u001b[0;34m\u001b[0m\u001b[0;34m\u001b[0m\u001b[0m\n\u001b[0m\u001b[1;32m      2\u001b[0m \u001b[0mlime\u001b[0m\u001b[0;34m.\u001b[0m\u001b[0mshow_in_notebook\u001b[0m\u001b[0;34m(\u001b[0m\u001b[0mshow_table\u001b[0m\u001b[0;34m=\u001b[0m\u001b[0;32mTrue\u001b[0m\u001b[0;34m)\u001b[0m\u001b[0;34m\u001b[0m\u001b[0;34m\u001b[0m\u001b[0m\n",
      "\u001b[0;31mNameError\u001b[0m: name 'explainer' is not defined"
     ]
    }
   ],
   "source": [
    "lime = explainer.explain_instance(henry, titanic_fr.predict_proba)\n",
    "lime.show_in_notebook(show_table=True)"
   ]
  }
 ],
 "metadata": {
  "colab": {
   "name": "LIME_XAI.ipynb",
   "provenance": []
  },
  "kernelspec": {
   "display_name": "Python 3",
   "language": "python",
   "name": "python3"
  },
  "language_info": {
   "codemirror_mode": {
    "name": "ipython",
    "version": 3
   },
   "file_extension": ".py",
   "mimetype": "text/x-python",
   "name": "python",
   "nbconvert_exporter": "python",
   "pygments_lexer": "ipython3",
   "version": "3.8.5"
  }
 },
 "nbformat": 4,
 "nbformat_minor": 1
}
